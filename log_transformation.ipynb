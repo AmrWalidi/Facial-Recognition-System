{
 "cells": [
  {
   "metadata": {},
   "cell_type": "markdown",
   "source": "Bu tür dönüşüm, bir görüntüdeki koyu piksellerin değerlerini genişletmek ve aynı zamanda daha yüksek seviyedeki değerleri sıkıştırmak için kullanılır",
   "id": "3704c69c11031e41"
  },
  {
   "cell_type": "code",
   "id": "initial_id",
   "metadata": {
    "collapsed": true,
    "ExecuteTime": {
     "end_time": "2024-11-16T10:36:55.340854Z",
     "start_time": "2024-11-16T10:36:49.094122Z"
    }
   },
   "source": [
    "from ultralytics import YOLO\n",
    "\n",
    "model = YOLO(\"runs/detect/train4/weights/best.pt\")"
   ],
   "outputs": [],
   "execution_count": 3
  },
  {
   "metadata": {},
   "cell_type": "code",
   "source": [
    "import os\n",
    "test_images_folder = \"Facial-Recognition-5/test/images\"\n",
    "result_folder = \"results\"\n",
    "os.makedirs(result_folder, exist_ok=True)"
   ],
   "id": "2640bad7a662705a",
   "outputs": [],
   "execution_count": null
  },
  {
   "metadata": {},
   "cell_type": "code",
   "source": [
    "normal_results = f\"{result_folder}/normal\"\n",
    "os.makedirs(normal_results, exist_ok=True)"
   ],
   "id": "bbce567a44cb292c",
   "outputs": [],
   "execution_count": null
  },
  {
   "metadata": {},
   "cell_type": "code",
   "source": [
    "for idx, image in enumerate(os.listdir(test_images_folder)):\n",
    "    image_path = os.path.join(test_images_folder, image)\n",
    "\n",
    "    result = model(source=image_path)\n",
    "    result[0].save(os.path.join(normal_results, f\"prediction_{idx + 1}.jpg\"))"
   ],
   "id": "b5d2c4ada1bd51f1",
   "outputs": [],
   "execution_count": null
  },
  {
   "metadata": {},
   "cell_type": "markdown",
   "source": "Eğitilmiş YOLO modelinin yaptığı tahminin sonuçlarına bakıldığında hassasiyet ve doğruluk oldukça iyi, yüzlerin yaklaşık %80'i doğru bir şekilde tahmin edildi, ancak bazı görüntüler tespit edilmedi ve bazıları yanlış tahmin edildi",
   "id": "a21e1c11752ff107"
  },
  {
   "metadata": {
    "ExecuteTime": {
     "end_time": "2024-11-16T10:36:42.461415Z",
     "start_time": "2024-11-16T10:36:42.139572Z"
    }
   },
   "cell_type": "code",
   "source": [
    "import numpy as np\n",
    "import cv2"
   ],
   "id": "e49946302067566",
   "outputs": [],
   "execution_count": 2
  },
  {
   "metadata": {
    "ExecuteTime": {
     "end_time": "2024-11-16T10:37:04.778934Z",
     "start_time": "2024-11-16T10:37:04.765891Z"
    }
   },
   "cell_type": "code",
   "source": [
    "def log_transformation(img):\n",
    "    c = 255 / (np.log1p(np.max(img)))\n",
    "    log_transform = c * np.log1p(img)\n",
    "    log_transform = np.uint8(log_transform)\n",
    "    return log_transform"
   ],
   "id": "76e247dce4221cd1",
   "outputs": [],
   "execution_count": 5
  },
  {
   "metadata": {},
   "cell_type": "code",
   "source": [
    "log_result_folder = f\"{result_folder}/log transformation results\"\n",
    "os.makedirs(log_result_folder, exist_ok=True)"
   ],
   "id": "c655099cc04fbad5",
   "outputs": [],
   "execution_count": null
  },
  {
   "metadata": {},
   "cell_type": "code",
   "source": [
    "for idx, image in enumerate(os.listdir(test_images_folder)):\n",
    "    image_path = os.path.join(test_images_folder, image)\n",
    "    image = cv2.imread(image_path)\n",
    "\n",
    "    log_img = log_transformation(image)\n",
    "    result = model(log_img)\n",
    "    result[0].save(os.path.join(log_result_folder, f\"prediction_{idx + 1}.jpg\"))"
   ],
   "id": "f5fd63d576c7ebe2",
   "outputs": [],
   "execution_count": null
  },
  {
   "metadata": {},
   "cell_type": "markdown",
   "source": "Görüntülere log dönüşüm uygulandıktan sonra performansta gözle görülür bir düşüş tespit edildi; dönüşüm görüntülere çok fazla ışık uyguladı ve bu da doğru yüzleri düzgün bir şekilde tahmin etmeyi zorlaştırdı",
   "id": "5932424a8944ce0a"
  },
  {
   "metadata": {
    "ExecuteTime": {
     "end_time": "2024-11-16T10:38:52.618355Z",
     "start_time": "2024-11-16T10:38:45.278720Z"
    }
   },
   "cell_type": "code",
   "source": [
    "cap = cv2.VideoCapture(0)\n",
    "\n",
    "while cap.isOpened():\n",
    "\n",
    "    ret, frame = cap.read()\n",
    "\n",
    "    if not ret:\n",
    "        break\n",
    "\n",
    "    frame = log_transformation(frame)\n",
    "    result = model.predict(frame)\n",
    "    cv2.imshow(\"histogram equalization\", result[0].plot())\n",
    "\n",
    "    if cv2.waitKey(1) & 0xFF == ord('q'):\n",
    "        break\n",
    "\n",
    "cap.release()\n",
    "cv2.destroyAllWindows()"
   ],
   "id": "8ccc3b326e81d73a",
   "outputs": [
    {
     "name": "stdout",
     "output_type": "stream",
     "text": [
      "\n",
      "0: 480x640 1 Amr-Walidi, 183.6ms\n",
      "Speed: 8.8ms preprocess, 183.6ms inference, 1.0ms postprocess per image at shape (1, 3, 480, 640)\n",
      "\n",
      "0: 480x640 1 Amr-Walidi, 267.8ms\n",
      "Speed: 11.2ms preprocess, 267.8ms inference, 1.8ms postprocess per image at shape (1, 3, 480, 640)\n",
      "\n",
      "0: 480x640 1 Amr-Walidi, 413.9ms\n",
      "Speed: 4.0ms preprocess, 413.9ms inference, 2.9ms postprocess per image at shape (1, 3, 480, 640)\n",
      "\n",
      "0: 480x640 1 Amr-Walidi, 245.3ms\n",
      "Speed: 5.0ms preprocess, 245.3ms inference, 1.0ms postprocess per image at shape (1, 3, 480, 640)\n",
      "\n",
      "0: 480x640 1 Amr-Walidi, 223.6ms\n",
      "Speed: 5.6ms preprocess, 223.6ms inference, 0.8ms postprocess per image at shape (1, 3, 480, 640)\n",
      "\n",
      "0: 480x640 1 Amr-Walidi, 214.6ms\n",
      "Speed: 3.0ms preprocess, 214.6ms inference, 1.0ms postprocess per image at shape (1, 3, 480, 640)\n",
      "\n",
      "0: 480x640 1 Amr-Walidi, 144.2ms\n",
      "Speed: 5.1ms preprocess, 144.2ms inference, 1.5ms postprocess per image at shape (1, 3, 480, 640)\n",
      "\n",
      "0: 480x640 1 Amr-Walidi, 144.9ms\n",
      "Speed: 3.7ms preprocess, 144.9ms inference, 2.0ms postprocess per image at shape (1, 3, 480, 640)\n",
      "\n",
      "0: 480x640 1 Amr-Walidi, 142.4ms\n",
      "Speed: 3.4ms preprocess, 142.4ms inference, 1.0ms postprocess per image at shape (1, 3, 480, 640)\n",
      "\n",
      "0: 480x640 1 Amr-Walidi, 144.6ms\n",
      "Speed: 4.0ms preprocess, 144.6ms inference, 0.0ms postprocess per image at shape (1, 3, 480, 640)\n",
      "\n",
      "0: 480x640 1 Amr-Walidi, 141.2ms\n",
      "Speed: 4.6ms preprocess, 141.2ms inference, 2.0ms postprocess per image at shape (1, 3, 480, 640)\n",
      "\n",
      "0: 480x640 1 Amr-Walidi, 143.8ms\n",
      "Speed: 3.2ms preprocess, 143.8ms inference, 2.0ms postprocess per image at shape (1, 3, 480, 640)\n"
     ]
    }
   ],
   "execution_count": 8
  }
 ],
 "metadata": {
  "kernelspec": {
   "display_name": "Python 3",
   "language": "python",
   "name": "python3"
  },
  "language_info": {
   "codemirror_mode": {
    "name": "ipython",
    "version": 2
   },
   "file_extension": ".py",
   "mimetype": "text/x-python",
   "name": "python",
   "nbconvert_exporter": "python",
   "pygments_lexer": "ipython2",
   "version": "2.7.6"
  }
 },
 "nbformat": 4,
 "nbformat_minor": 5
}
