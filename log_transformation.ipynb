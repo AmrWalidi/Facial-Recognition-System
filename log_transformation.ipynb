{
 "cells": [
  {
   "metadata": {},
   "cell_type": "markdown",
   "source": "Bu tür dönüşüm, bir görüntüdeki koyu piksellerin değerlerini genişletmek ve aynı zamanda daha yüksek seviyedeki değerleri sıkıştırmak için kullanılır",
   "id": "3704c69c11031e41"
  },
  {
   "cell_type": "code",
   "id": "5f32f583389d0624",
   "metadata": {},
   "source": [
    "from ultralytics import YOLO\n",
    "import numpy as np\n",
    "import cv2"
   ],
   "outputs": [],
   "execution_count": null
  },
  {
   "metadata": {
    "collapsed": true
   },
   "cell_type": "code",
   "source": "model = YOLO(\"runs/detect/train4/weights/best.pt\")",
   "id": "initial_id",
   "outputs": [],
   "execution_count": null
  },
  {
   "metadata": {},
   "cell_type": "code",
   "source": [
    "def log_transformation(img):\n",
    "    c = 255 / (np.log1p(np.max(img)))\n",
    "    log_transform = c * np.log1p(img)\n",
    "    log_transform = np.uint8(log_transform)\n",
    "    return log_transform"
   ],
   "id": "76e247dce4221cd1",
   "outputs": [],
   "execution_count": null
  },
  {
   "metadata": {},
   "cell_type": "code",
   "source": [
    "import os\n",
    "\n",
    "test_images_folder = \"Facial-Recognition-5/test/images\"\n",
    "result_folder = \"results\"\n",
    "os.makedirs(result_folder, exist_ok=True)"
   ],
   "id": "a376541707b2fcaf",
   "outputs": [],
   "execution_count": null
  },
  {
   "metadata": {},
   "cell_type": "code",
   "source": [
    "log_result_folder = f\"{result_folder}/log transformation results\"\n",
    "os.makedirs(log_result_folder, exist_ok=True)"
   ],
   "id": "c655099cc04fbad5",
   "outputs": [],
   "execution_count": null
  },
  {
   "metadata": {},
   "cell_type": "code",
   "source": [
    "for idx, image in enumerate(os.listdir(test_images_folder)):\n",
    "    image_path = os.path.join(test_images_folder, image)\n",
    "    image = cv2.imread(image_path)\n",
    "\n",
    "    log_img = log_transformation(image)\n",
    "    result = model(log_img)\n",
    "    result[0].save(os.path.join(log_result_folder, f\"prediction_{idx + 1}.jpg\"))"
   ],
   "id": "f5fd63d576c7ebe2",
   "outputs": [],
   "execution_count": null
  },
  {
   "metadata": {},
   "cell_type": "markdown",
   "source": "Görüntülere log dönüşüm uygulandıktan sonra performansta gözle görülür bir düşüş tespit edildi; dönüşüm görüntülere çok fazla ışık uyguladı ve bu da doğru yüzleri düzgün bir şekilde tahmin etmeyi zorlaştırdı",
   "id": "5932424a8944ce0a"
  },
  {
   "metadata": {},
   "cell_type": "code",
   "source": [
    "cap = cv2.VideoCapture(0)\n",
    "\n",
    "while cap.isOpened():\n",
    "\n",
    "    ret, frame = cap.read()\n",
    "\n",
    "    if not ret:\n",
    "        break\n",
    "\n",
    "    frame = log_transformation(frame)\n",
    "    result = model.predict(frame)\n",
    "    cv2.imshow(\"histogram equalization\", result[0].plot())\n",
    "\n",
    "    if cv2.waitKey(1) & 0xFF == ord('q'):\n",
    "        break\n",
    "\n",
    "cap.release()\n",
    "cv2.destroyAllWindows()"
   ],
   "id": "8ccc3b326e81d73a",
   "outputs": [],
   "execution_count": null
  }
 ],
 "metadata": {
  "kernelspec": {
   "display_name": "Python 3",
   "language": "python",
   "name": "python3"
  },
  "language_info": {
   "codemirror_mode": {
    "name": "ipython",
    "version": 2
   },
   "file_extension": ".py",
   "mimetype": "text/x-python",
   "name": "python",
   "nbconvert_exporter": "python",
   "pygments_lexer": "ipython2",
   "version": "2.7.6"
  }
 },
 "nbformat": 4,
 "nbformat_minor": 5
}
