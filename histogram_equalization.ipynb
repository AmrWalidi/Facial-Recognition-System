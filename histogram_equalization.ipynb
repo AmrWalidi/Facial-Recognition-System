{
 "cells": [
  {
   "metadata": {},
   "cell_type": "markdown",
   "source": "Bir görüntünün kontrastını, piksel yoğunluk dağılımını yeniden dağıtarak artırır, bir görüntünün yoğunluk değerlerinin dar bir aralıkta kümelendiği ve görüntünün koyu veya soluk göründüğü durumlarda işe yarar. Histogramı eşitleyerek, piksel değerleri daha eşit şekilde yayılır ve ayrıntıların genel görünürlüğü iyileştirilir",
   "id": "b90d00f6db8877cd"
  },
  {
   "metadata": {
    "ExecuteTime": {
     "end_time": "2024-11-16T10:32:20.775056Z",
     "start_time": "2024-11-16T10:32:14.540546Z"
    }
   },
   "cell_type": "code",
   "source": [
    "from ultralytics import YOLO\n",
    "\n",
    "model = YOLO(\"runs/detect/train4/weights/best.pt\")"
   ],
   "id": "dc75e4ac4d018718",
   "outputs": [],
   "execution_count": 3
  },
  {
   "metadata": {
    "ExecuteTime": {
     "end_time": "2024-11-16T10:32:13.487661Z",
     "start_time": "2024-11-16T10:32:13.236749Z"
    }
   },
   "cell_type": "code",
   "source": [
    "import cv2\n",
    "\n",
    "def histogram_equalization(img):\n",
    "    blue, green, red = cv2.split(img)\n",
    "\n",
    "    equalized_red = cv2.equalizeHist(red)\n",
    "    equalized_green = cv2.equalizeHist(green)\n",
    "    equalized_blue = cv2.equalizeHist(blue)\n",
    "\n",
    "    return cv2.merge((equalized_blue, equalized_green, equalized_red))"
   ],
   "id": "aad49450b4683ffa",
   "outputs": [],
   "execution_count": 2
  },
  {
   "metadata": {},
   "cell_type": "code",
   "source": "test_images_folder = \"Facial-Recognition-5/test/images\"",
   "id": "4c9ebfcc8e278b94",
   "outputs": [],
   "execution_count": null
  },
  {
   "metadata": {},
   "cell_type": "code",
   "source": [
    "import os\n",
    "\n",
    "result_folder = \"results\"\n",
    "histogram_result_folder = f\"{result_folder}/histogram equalization results\"\n",
    "os.makedirs(histogram_result_folder, exist_ok=True)"
   ],
   "id": "b9252d585c6164c0",
   "outputs": [],
   "execution_count": null
  },
  {
   "metadata": {},
   "cell_type": "code",
   "source": [
    "for idx, image in enumerate(os.listdir(test_images_folder)):\n",
    "    image_path = os.path.join(test_images_folder, image)\n",
    "    image = cv2.imread(image_path)\n",
    "    image = histogram_equalization(image)\n",
    "\n",
    "    result = model.predict(image)\n",
    "    result[0].save(os.path.join(histogram_result_folder, f\"prediction_{idx + 1}.jpg\"))"
   ],
   "id": "1161eda5b3d998be",
   "outputs": [],
   "execution_count": null
  },
  {
   "metadata": {},
   "cell_type": "markdown",
   "source": "Histogram eşitlemesi modelin performansını iyileştirmedi, ayrıca bazı görüntüleri algılanamaz hale getirdi.Bu, filtrenin görüntü gri tonlamalı olduğunda en iyi şekilde kullanılması nedeniyle yöntemin renkli görüntülerle kullanılmasının nedeni olabilir, ancak modelimiz renkli görüntüler üzerinde eğitildiği için hiçbir gri tonlamalı görüntüyü kabul etmeyecektir",
   "id": "145dfe6c4c4abfcf"
  }
 ],
 "metadata": {
  "kernelspec": {
   "display_name": "Python 3",
   "language": "python",
   "name": "python3"
  },
  "language_info": {
   "codemirror_mode": {
    "name": "ipython",
    "version": 2
   },
   "file_extension": ".py",
   "mimetype": "text/x-python",
   "name": "python",
   "nbconvert_exporter": "python",
   "pygments_lexer": "ipython2",
   "version": "2.7.6"
  }
 },
 "nbformat": 4,
 "nbformat_minor": 5
}
