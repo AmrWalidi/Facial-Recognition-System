{
 "cells": [
  {
   "cell_type": "code",
   "execution_count": null,
   "id": "a642ffe3df52a7cb",
   "metadata": {},
   "outputs": [],
   "source": [
    "from ultralytics import YOLO\n",
    "\n",
    "model = YOLO(\"runs/detect/train4/weights/best.pt\")"
   ]
  },
  {
   "metadata": {},
   "cell_type": "code",
   "outputs": [],
   "execution_count": null,
   "source": [
    "import os\n",
    "\n",
    "test_images_folder = \"Facial-Recognition-5/test/images\"\n",
    "result_folder = \"results\"\n",
    "os.makedirs(result_folder, exist_ok=True)"
   ],
   "id": "edba5994fa4032a2"
  },
  {
   "metadata": {},
   "cell_type": "code",
   "outputs": [],
   "execution_count": null,
   "source": [
    "normal_results = f\"{result_folder}/normal\"\n",
    "os.makedirs(normal_results, exist_ok=True)"
   ],
   "id": "3e09419f82c53147"
  },
  {
   "metadata": {
    "collapsed": true
   },
   "cell_type": "code",
   "outputs": [],
   "execution_count": null,
   "source": [
    "for idx, image in enumerate(os.listdir(test_images_folder)):\n",
    "    image_path = os.path.join(test_images_folder, image)\n",
    "\n",
    "    result = model(source=image_path)\n",
    "    result[0].save(os.path.join(normal_results, f\"prediction_{idx + 1}.jpg\"))"
   ],
   "id": "initial_id"
  },
  {
   "metadata": {},
   "cell_type": "markdown",
   "source": "Eğitilmiş YOLO modelinin yaptığı tahminin sonuçlarına bakıldığında hassasiyet ve doğruluk oldukça iyi, yüzlerin yaklaşık %80'i doğru bir şekilde tahmin edildi, ancak bazı görüntüler tespit edilmedi ve bazıları yanlış tahmin edildi",
   "id": "7c8f775ea78bf57c"
  }
 ],
 "metadata": {
  "kernelspec": {
   "display_name": "Python 3",
   "language": "python",
   "name": "python3"
  },
  "language_info": {
   "codemirror_mode": {
    "name": "ipython",
    "version": 2
   },
   "file_extension": ".py",
   "mimetype": "text/x-python",
   "name": "python",
   "nbconvert_exporter": "python",
   "pygments_lexer": "ipython2",
   "version": "2.7.6"
  }
 },
 "nbformat": 4,
 "nbformat_minor": 5
}
