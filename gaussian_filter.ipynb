{
 "cells": [
  {
   "cell_type": "code",
   "id": "initial_id",
   "metadata": {
    "collapsed": true
   },
   "source": [
    "from ultralytics import YOLO\n",
    "\n",
    "model = YOLO(\"runs/detect/train4/weights/best.pt\")"
   ],
   "outputs": [],
   "execution_count": null
  },
  {
   "metadata": {},
   "cell_type": "code",
   "source": [
    "import cv2\n",
    "\n",
    "\n",
    "def gaussian_filtering(img, size = 7, sigma = 5):\n",
    "    return cv2.GaussianBlur(img, (size, size), sigma)"
   ],
   "id": "40af3952124bae39",
   "outputs": [],
   "execution_count": null
  },
  {
   "metadata": {},
   "cell_type": "code",
   "source": [
    "def callback(input):\n",
    "    pass"
   ],
   "id": "ed02d6de2e957398",
   "outputs": [],
   "execution_count": null
  },
  {
   "metadata": {},
   "cell_type": "markdown",
   "source": "Gürültülü bir görüntü seçerek yüz algılamayı iyileştirip iyileştirmediğini görmek için Gauss filtresini uygulamaya çalıştık",
   "id": "c4d83825c74597e9"
  },
  {
   "metadata": {},
   "cell_type": "code",
   "source": [
    "image = cv2.imread(\"noisy image.png\")\n",
    "\n",
    "winName = \"gaussian_filter\"\n",
    "cv2.namedWindow(winName)\n",
    "cv2.createTrackbar(\"sigma\", winName, 1, 20, callback)\n",
    "cv2.createTrackbar(\"size\", winName, 1, 100, callback)\n",
    "\n",
    "while True:\n",
    "    sig = cv2.getTrackbarPos(\"sigma\", winName)\n",
    "    n = cv2.getTrackbarPos(\"size\", winName)\n",
    "\n",
    "    if n % 2 == 0:\n",
    "        n = n + 1\n",
    "    filtered_image = gaussian_filtering(image, n, sig)\n",
    "    result = model(filtered_image)\n",
    "\n",
    "    # Display the filtered image\n",
    "    cv2.imshow(winName, result[0].plot())\n",
    "\n",
    "    if cv2.waitKey(1) == ord('q'):\n",
    "        break\n",
    "cv2.destroyAllWindows()"
   ],
   "id": "2ce1ca81802abe62",
   "outputs": [],
   "execution_count": null
  },
  {
   "metadata": {},
   "cell_type": "markdown",
   "source": "Gauss filtrelemesi uygulanarak görüntüdeki yüzün algılanması ve doğru bir şekilde tahmin edilmesi sağlandı",
   "id": "12fb34f7c4a8273c"
  },
  {
   "metadata": {},
   "cell_type": "code",
   "source": "test_images_folder = \"Facial-Recognition-5/test/images\"",
   "id": "e2a35fbdb4a9612d",
   "outputs": [],
   "execution_count": null
  },
  {
   "metadata": {},
   "cell_type": "code",
   "source": [
    "import os\n",
    "\n",
    "result_folder = \"results\"\n",
    "gaussian_result_folder = f\"{result_folder}/gaussian filtering results\"\n",
    "os.makedirs(gaussian_result_folder, exist_ok=True)"
   ],
   "id": "43aae4abf0d8f9cb",
   "outputs": [],
   "execution_count": null
  },
  {
   "metadata": {},
   "cell_type": "code",
   "source": [
    "for idx, image in enumerate(os.listdir(test_images_folder)):\n",
    "    image_path = os.path.join(test_images_folder, image)\n",
    "    image = cv2.imread(image_path)\n",
    "\n",
    "    image = gaussian_filtering(image)\n",
    "\n",
    "    result = model.predict(image)\n",
    "    result[0].save(os.path.join(gaussian_result_folder, f\"prediction_{idx + 1}.jpg\"))"
   ],
   "id": "b88918395c94017a",
   "outputs": [],
   "execution_count": null
  },
  {
   "metadata": {},
   "cell_type": "markdown",
   "source": "Test klasöründeki tüm görüntüler gürültüsüz olduğundan, bunlara Gauss filtrelemesi uygulamak performansı düşürür ve yüz algılamayı çok daha zor hale getirir",
   "id": "1931f6f49e1774dc"
  }
 ],
 "metadata": {
  "kernelspec": {
   "display_name": "Python 3",
   "language": "python",
   "name": "python3"
  },
  "language_info": {
   "codemirror_mode": {
    "name": "ipython",
    "version": 2
   },
   "file_extension": ".py",
   "mimetype": "text/x-python",
   "name": "python",
   "nbconvert_exporter": "python",
   "pygments_lexer": "ipython2",
   "version": "2.7.6"
  }
 },
 "nbformat": 4,
 "nbformat_minor": 5
}
