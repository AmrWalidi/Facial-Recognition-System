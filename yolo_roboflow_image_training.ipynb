{
 "cells": [
  {
   "cell_type": "code",
   "execution_count": null,
   "id": "initial_id",
   "metadata": {
    "collapsed": true
   },
   "outputs": [],
   "source": [
    "from ultralytics import YOLO\n",
    "from roboflow import Roboflow"
   ]
  },
  {
   "metadata": {},
   "cell_type": "code",
   "outputs": [],
   "execution_count": null,
   "source": "model = YOLO('yolov8n.pt')",
   "id": "57d6ff9b8eb884bd"
  },
  {
   "metadata": {},
   "cell_type": "code",
   "outputs": [],
   "execution_count": null,
   "source": [
    "rf = Roboflow(api_key=\"zGjCRPBrA5e9YQJSr5vo\")\n",
    "project = rf.workspace(\"computer-vision-cuvyr\").project(\"facial-recognition-gcop7\")\n",
    "version = project.version(5)\n",
    "dataset = version.download(\"yolov8\")"
   ],
   "id": "9ea171d562cd4f83"
  },
  {
   "metadata": {},
   "cell_type": "code",
   "outputs": [],
   "execution_count": null,
   "source": "model.train(data=f\"{dataset.location}/data.yaml\", epochs=50)",
   "id": "dd74af5a94ddcff8"
  },
  {
   "metadata": {},
   "cell_type": "code",
   "outputs": [],
   "execution_count": null,
   "source": "model = YOLO('runs/detect/train3/weights/best.pt')",
   "id": "25bfe03dbc5324c4"
  },
  {
   "metadata": {},
   "cell_type": "code",
   "outputs": [],
   "execution_count": null,
   "source": "model.train(data=f\"{dataset.location}/data.yaml\", epochs=50)",
   "id": "4024838cc4d4267d"
  }
 ],
 "metadata": {
  "kernelspec": {
   "display_name": "Python 3",
   "language": "python",
   "name": "python3"
  },
  "language_info": {
   "codemirror_mode": {
    "name": "ipython",
    "version": 2
   },
   "file_extension": ".py",
   "mimetype": "text/x-python",
   "name": "python",
   "nbconvert_exporter": "python",
   "pygments_lexer": "ipython2",
   "version": "2.7.6"
  }
 },
 "nbformat": 4,
 "nbformat_minor": 5
}
